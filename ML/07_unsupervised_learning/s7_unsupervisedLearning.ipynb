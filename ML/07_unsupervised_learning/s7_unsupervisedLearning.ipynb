{
 "cells": [
  {
   "cell_type": "markdown",
   "metadata": {},
   "source": [
    "<img src=\"diagrams/Its-never-too-late-for-change.png\" alt=\"It's never too late to change\" style=\"width:1000px;\"/>\n",
    "[Source: https://exceednutrition.com/wp-content/uploads/2015/04/Its-never-too-late-for-change..png]"
   ]
  },
  {
   "cell_type": "markdown",
   "metadata": {
    "slideshow": {
     "slide_type": "slide"
    }
   },
   "source": [
    "# MLAI Session 7: Unsupervised Learning\n",
    "## *Learning from unlabelled data*\n",
    "\n",
    "### Haiping Lu -  COM4509/6509 MLAI2018 \n",
    "\n",
    "### Based on slides by Neil D. Lawrence, Roger Grosse (Toronto) & Hong-yi Li (NTU, TW)"
   ]
  },
  {
   "cell_type": "markdown",
   "metadata": {},
   "source": [
    "## Overview\n",
    "### What happened last week\n",
    "\n",
    "* Bayesian you, Bayesian me.\n",
    "* The model - my belief of teaching is the **prior** [MLAI2015](https://github.com/lawrennd/mlai2015)\n",
    "* The data - your response and your feedback are data giving the **likelihood**\n",
    "* The model - I generalised and **marginalised** over model parameters (different ways of teaching), getting the **marginal likelihood**\n",
    "* The model - I formed the **posterior** (belief after one week's observation / data), made the changes, which is this session\n",
    "\n",
    "### What you will learn this week\n",
    "* $k$-means **clustering**\n",
    "* **Dimensionality reduction** - learning a latent, low-dimensional representation from unlabelled data\n",
    "* Principal component analysis\n",
    "* AutoEncoder, i.e., a standard unsupervised **Neural Network**, adapted from [TensorFlow Examples](https://github.com/aymericdamien/TensorFlow-Examples)"
   ]
  },
  {
   "cell_type": "markdown",
   "metadata": {},
   "source": [
    "### Motivating Example: PCA without Math\n",
    "\n",
    "[Watch: PCA main ideas in only 5 minutes](https://www.youtube.com/watch?v=HMOI_lkzW08)\n",
    "\n",
    "### Unsupervised Learning\n",
    "\n",
    "* Supervised learning is learning where each data point has a label (e.g. regression output)\n",
    "* In unsupervised learning we have no labels for the data.\n",
    "* Often thought of as structure discovery.\n",
    "    * Finding features in the data\n",
    "    * Exploratory data analysis\n",
    "* In *Nature* 2015, <img src=\"https://static.oschina.net/uploads/space/2018/0324/203405_LC6Y_876354.png\" alt=\"BigThreeDL\" style=\"width:300px;\"/> \n",
    "> We expect unsupervised learning to become far more important in the longer term. Human and animal learning is largely unsupervised: we discover the structure of the world by observing it, not by being told the name of every object!\n",
    "    \n",
    "## Clustering - $k$-means\n",
    "\n",
    "* Associate each data point, $\\mathbf{y}_{i, :}$ with one of $k$ different discrete groups.\n",
    "* For example:\n",
    "    * Clustering animals into discrete groups. Are animals discrete or continuous?\n",
    "    * Clustering into different different *political* affiliations.\n",
    "* **Question**: how to determine $k$?   "
   ]
  },
  {
   "cell_type": "code",
   "execution_count": 2,
   "metadata": {
    "slideshow": {
     "slide_type": "skip"
    }
   },
   "outputs": [],
   "source": [
    "import pods\n",
    "import mlai\n",
    "import numpy as np\n",
    "import matplotlib.pyplot as plt\n",
    "%matplotlib inline\n",
    "\n",
    "from ipywidgets import *\n",
    "def display_plots(filebase, directory=None, width=700, height=500, **kwargs):\n",
    "    \"\"\"Display a series of plots controlled by sliders. The function relies on Python string format functionality to index through a series of plots.\"\"\"\n",
    "    def show_figure(filebase, directory, **kwargs):\n",
    "        \"\"\"Helper function to load in the relevant plot for display.\"\"\"\n",
    "        filename = filebase.format(**kwargs)\n",
    "        if directory is not None:\n",
    "            filename = directory + '/' + filename           \n",
    "        display(HTML(\"<img src='{filename}'>\".format(filename=filename)))\n",
    "        \n",
    "    interact(show_figure, filebase=fixed(filebase), directory=fixed(directory), **kwargs)\n"
   ]
  },
  {
   "cell_type": "code",
   "execution_count": 3,
   "metadata": {
    "slideshow": {
     "slide_type": "skip"
    }
   },
   "outputs": [
    {
     "data": {
      "image/png": "[encoded data removed]",
      "text/plain": [
       "<Figure size 360x360 with 1 Axes>"
      ]
     },
     "metadata": {
      "needs_background": "light"
     },
     "output_type": "display_data"
    }
   ],
   "source": [
    "fig, ax = plt.subplots(figsize=(5,5))\n",
    "\n",
    "num_centres = 20\n",
    "num_data = 200\n",
    "centres = np.random.normal(size=(num_centres, 2))\n",
    "w = np.random.normal(size=(num_centres, 2))*0.1\n",
    "alloc = np.random.randint(0, num_centres, size=(num_data))\n",
    "sigma = np.random.normal(size=(num_centres, 1))*0.05\n",
    "epsilon = np.random.normal(size=(num_data,2))*sigma[alloc, :]\n",
    "\n",
    "Y = w[alloc, :]*np.random.normal(size=(num_data, 1)) + centres[alloc, :] + epsilon\n",
    "\n",
    "ax.plot(Y[:, 0], Y[:, 1], 'rx')\n",
    "ax.set_xlabel('$y_1$', fontsize=20)\n",
    "ax.set_ylabel('$y_2$', fontsize=20)\n",
    "\n",
    "plt.savefig('./diagrams/cluster_data00.svg')\n",
    "pi_vals = np.linspace(-np.pi, np.pi, 200)[:, None]\n",
    "for i in range(num_centres):\n",
    "    ax.plot(centres[i, 0], centres[i, 1], 'o', markersize=5, color=[0, 0, 0], linewidth=2)\n",
    "    x = np.hstack([np.sin(pi_vals), np.cos(pi_vals)])\n",
    "    L = np.linalg.cholesky(np.outer(w[i, :],w[i, :]) + sigma[i]**2*np.eye(2))\n",
    "    el = np.dot(x, L.T)\n",
    "    ax.plot(centres[i, 0] + el[:, 0], centres[i, 1] + el[:, 1], linewidth=2, color=[0,0,0])\n",
    "plt.savefig('./diagrams/cluster_data01.svg')    "
   ]
  },
  {
   "cell_type": "code",
   "execution_count": 4,
   "metadata": {
    "slideshow": {
     "slide_type": "slide"
    }
   },
   "outputs": [
    {
     "data": {
      "application/vnd.jupyter.widget-view+json": {
       "model_id": "eb88827e53d54c89bf05093bbba4abc9",
       "version_major": 2,
       "version_minor": 0
      },
      "text/plain": [
       "interactive(children=(IntSlider(value=0, description='counter', max=1), Output()), _dom_classes=('widget-inter…"
      ]
     },
     "metadata": {},
     "output_type": "display_data"
    }
   ],
   "source": [
    "display_plots('cluster_data{counter:0>2}.svg', directory='./diagrams', counter=(0, 1))\n"
   ]
  },
  {
   "cell_type": "markdown",
   "metadata": {
    "slideshow": {
     "slide_type": "slide"
    }
   },
   "source": [
    "### $k$-means Clustering\n",
    "\n",
    "* Simple algorithm for allocating points to groups. \n",
    "* *Require*: Set $k$ and a stopping criterion\n",
    "    1. Initialize cluster centres as randomly selected data points.\n",
    "    2. Assign each data point to *nearest* cluster centre (centroid).\n",
    "    3. Update each cluster centre by setting it to the mean of assigned data points.\n",
    "    4. Repeat 2 and 3 until the stopping criterion reached (e.g., cluster allocations do not change).\n"
   ]
  },
  {
   "cell_type": "markdown",
   "metadata": {
    "slideshow": {
     "slide_type": "slide"
    }
   },
   "source": [
    "### Objective Function\n",
    "\n",
    "* This minimizes the objective (compactness)\n",
    "  $$\n",
    "    E=\\sum_{j=1}^k \\sum_{i\\ \\text{allocated to}\\ j}  \\left(\\mathbf{y}_{i, :} - \\boldsymbol{\\mu}_{j, :}\\right)^\\top\\left(\\mathbf{y}_{i, :} - \\boldsymbol{\\mu}_{j, :}\\right)\n",
    "  $$\n",
    "  *i.e.* it minimizes the sum of **Euclidean squared distances** betwen points and their associated centres.\n",
    "* The minimum is *not* guaranteed to be *global* or *unique*.\n",
    "* This objective is a non-convex optimization problem.\n",
    "* **Question**: How to evaluate the clustering results?"
   ]
  },
  {
   "cell_type": "code",
   "execution_count": 5,
   "metadata": {
    "slideshow": {
     "slide_type": "skip"
    }
   },
   "outputs": [
    {
     "data": {
      "image/png": "[encoded data removed]",
      "text/plain": [
       "<Figure size 360x360 with 1 Axes>"
      ]
     },
     "metadata": {
      "needs_background": "light"
     },
     "output_type": "display_data"
    }
   ],
   "source": [
    "def write_plot(counter, caption):\n",
    "    filebase = './diagrams/kmeans_clustering_{counter:0>3}'.format(counter=counter)\n",
    "    plt.savefig(filebase + '.svg')\n",
    "    f = open(filebase + '.tex', 'w')\n",
    "    f.write(caption)\n",
    "    f.close()\n",
    "    \n",
    "fig, ax = plt.subplots(figsize=(5,5))\n",
    "fontsize = 20\n",
    "\n",
    "num_clust_points = 30\n",
    "\n",
    "Y = np.vstack([np.random.normal(size=(num_clust_points, 2)) + 2.5,\n",
    "       np.random.normal(size=(num_clust_points, 2)) - 2.5,\n",
    "       np.random.normal(size=(num_clust_points, 2)) + np.array([2.5, -2.5])])\n",
    "\n",
    "centre_inds = np.random.permutation(Y.shape[0])[:3]\n",
    "centres = Y[centre_inds, :]\n",
    "\n",
    "ax.cla()\n",
    "\n",
    "ax.plot(Y[:, 0], Y[:, 1], '.', color=[0, 0, 0], markersize=10)\n",
    "ax.set_xlabel('$y_1$')\n",
    "ax.set_ylabel('$y_2$')\n",
    "ax.set_title('Data')\n",
    "counter=0\n",
    "write_plot(counter, 'Data set to be analyzed. Initialize cluster centres.')\n",
    "ax.plot(centres[:, 0], centres[:, 1], 'o', color=[0,0,0], linewidth=3, markersize=12)    \n",
    "counter+=1\n",
    "write_plot(counter, 'Allocate each point to the cluster with the nearest centre')\n",
    "i = 0\n",
    "\n",
    "for i in range(6):\n",
    "    dist_mat = ((Y[:, :, None] - centres.T[None, :, :])**2).sum(1)\n",
    "    ind = dist_mat.argmin(1)\n",
    "    ax.cla()\n",
    "    ax.plot(Y[ind==0, 0], Y[ind==0, 1], 'x', color= [1, 0, 0], markersize=10)\n",
    "    ax.plot(Y[ind==1, 0], Y[ind==1, 1], 'o', color=[0, 1, 0], markersize=10)\n",
    "    ax.plot(Y[ind==2, 0], Y[ind==2, 1], '+', color=[0, 0, 1], markersize=10)\n",
    "    c = ax.plot(centres[:, 0], centres[:, 1], 'o', color=[0,0, 0], markersize=12, linewidth=3)\n",
    "    ax.set_xlabel('$y_1$',fontsize=fontsize)\n",
    "    ax.set_ylabel('$y_2$',fontsize=fontsize)\n",
    "    ax.set_title('Iteration ' + str(i))\n",
    "    counter+=1\n",
    "    write_plot(counter, 'Update each centre by setting to the mean of the allocated points.')\n",
    "    for j in range(centres.shape[0]):\n",
    "          centres[j, :] = np.mean(Y[ind==j, :], 0)\n",
    "    c[0].set_data(centres[:, 0], centres[:, 1])\n",
    "    counter+=1\n",
    "    plt.savefig('./diagrams/kmeans_clustering_{counter:0>3}.svg'.format(counter=counter))\n",
    "    write_plot(counter, 'Allocate each data point to the nearest cluster centre.')\n",
    "\n",
    "\n"
   ]
  },
  {
   "cell_type": "code",
   "execution_count": 6,
   "metadata": {
    "slideshow": {
     "slide_type": "slide"
    }
   },
   "outputs": [
    {
     "data": {
      "application/vnd.jupyter.widget-view+json": {
       "model_id": "85230f3a268546989a7539da210ba7d9",
       "version_major": 2,
       "version_minor": 0
      },
      "text/plain": [
       "interactive(children=(Text(value='kmeans_clustering_{counter:0>3}.tex', description='text_top'), IntSlider(val…"
      ]
     },
     "metadata": {},
     "output_type": "display_data"
    }
   ],
   "source": [
    "display_plots('kmeans_clustering_{counter:0>3}.svg', directory='./diagrams', \n",
    "                            text_top='kmeans_clustering_{counter:0>3}.tex', counter=(0, 13))"
   ]
  },
  {
   "cell_type": "markdown",
   "metadata": {
    "slideshow": {
     "slide_type": "slide"
    }
   },
   "source": [
    "## Dimensionality Reduction - PCA\n",
    "### Motivation of Dimensionality Reduction: High Dimensional Data\n",
    "\n",
    "* USPS Data Set Handwritten Digit\n",
    "* 3648 dimensions (64 rows, 57 columns)\n",
    "* Space contains much more than just this digit.\n",
    "* **Question**: How many possible images of this size and bit depth?"
   ]
  },
  {
   "cell_type": "code",
   "execution_count": 9,
   "metadata": {
    "slideshow": {
     "slide_type": "skip"
    }
   },
   "outputs": [
    {
     "data": {
      "image/png": "[encoded data removed]",
      "text/plain": [
       "<Figure size 360x360 with 1 Axes>"
      ]
     },
     "metadata": {
      "needs_background": "light"
     },
     "output_type": "display_data"
    }
   ],
   "source": [
    "fig, ax = plt.subplots(figsize=(5,5))\n",
    "\n",
    "six_image = mlai.load_pgm('br1561_6.3.pgm', directory ='./diagrams')\n",
    "rows = six_image.shape[0]\n",
    "col = six_image.shape[1]\n",
    "    \n",
    "ax.imshow(six_image,interpolation='none').set_cmap('gray')\n",
    "plt.savefig('./diagrams/dem_six000.png')\n",
    "for i in range(3):\n",
    "    rand_image = np.random.rand(rows, col)<((six_image>0).sum()/float(rows*col))\n",
    "    ax.imshow(rand_image,interpolation='none').set_cmap('gray')\n",
    "    plt.savefig('./diagrams/dem_six{i:0>3}.png'.format(i=i+1))    "
   ]
  },
  {
   "cell_type": "code",
   "execution_count": 10,
   "metadata": {
    "slideshow": {
     "slide_type": "-"
    }
   },
   "outputs": [
    {
     "data": {
      "application/vnd.jupyter.widget-view+json": {
       "model_id": "ee607fe370394fda95c1c2e2155af2cc",
       "version_major": 2,
       "version_minor": 0
      },
      "text/plain": [
       "interactive(children=(IntSlider(value=1, description='counter', max=3), Output()), _dom_classes=('widget-inter…"
      ]
     },
     "metadata": {},
     "output_type": "display_data"
    }
   ],
   "source": [
    "display_plots('dem_six{counter:0>3}.png', directory='./diagrams', counter=(0, 3))"
   ]
  },
  {
   "cell_type": "markdown",
   "metadata": {
    "slideshow": {
     "slide_type": "slide"
    }
   },
   "source": [
    "### How About a Face?\n",
    "<img src=\"diagrams/Subspace.png\" alt=\"subspace\" style=\"width:500px;\"/>\n",
    "\n",
    "### Low Dimensional Subspace/Manifolds\n",
    "\n",
    "* For high dimensional data with *structure*:\n",
    "    * We expect fewer variations than dimensions;\n",
    "    * Therefore we expect the data to live on a lower dimensional manifold.\n",
    "    * Conclusion: Deal with high dimensional data by looking for a lower dimensional embedding/projection/transformation.\n",
    "    "
   ]
  },
  {
   "cell_type": "markdown",
   "metadata": {
    "slideshow": {
     "slide_type": "slide"
    }
   },
   "source": [
    "### Principal Component Analysis\n",
    "\n",
    "* PCA (@Hotelling:analysis33) is a linear embedding.\n",
    "* Today its presented as:\n",
    "    * Rotate to find 'directions' in data with maximal variance.\n",
    "    * How do we find these directions?\n",
    "* Algorithmically we do this by diagonalizing the **sample** covariance matrix (a.k.a. scatter matrix, related to correlated Gaussian section in Session 6, rotation matrix)\n",
    "    $$\n",
    "    \\mathbf{S}=\\frac{1}{n}\\sum_{i=1}^n \\left(\\mathbf{y}_{i, :}-\\boldsymbol{\\mu}\\right)\\left(\\mathbf{y}_{i, :} - \\boldsymbol{\\mu}\\right)^\\top\n",
    "    $$\n",
    "* **Interesting observation**: Compare this definition with the $k$-means objective function"
   ]
  },
  {
   "cell_type": "markdown",
   "metadata": {
    "slideshow": {
     "slide_type": "slide"
    }
   },
   "source": [
    "### Principal Component Analysis\n",
    "\n",
    "* Given data $\\{\\mathbf{y}\\}$, PCA finds *orthogonal* directions defined by a projection $\\mathbf{U}$ capturing the **maximum varience** in the data. The projected data (PCA representation) $\\mathbf{x} = \\mathbf{U}^\\top\\mathbf{y}$. Maximising the variance is equivalent to minimise the reconstruction error.\n",
    "* **Question**: given the PCA representation $\\mathbf{x}$, how to obtain (an approximation/reconstruction) of $\\mathbf{y}$?"
   ]
  },
  {
   "cell_type": "markdown",
   "metadata": {
    "slideshow": {
     "slide_type": "slide"
    }
   },
   "source": [
    "### Lagrangian\n",
    "\n",
    "* Solution for the first direction is found via constrained optimisation (which uses [Lagrange multipliers](https://en.wikipedia.org/wiki/Lagrange_multiplier)): \n",
    "  $$\n",
    "    L\\left(\\mathbf{u}_{1},\\lambda_{1}\\right)=\\mathbf{u}_{1}^{\\top}\\mathbf{S}\\mathbf{u}_{1}+\\lambda_{1}\\left(1-\\mathbf{u}_{1}^{\\top}\\mathbf{u}_{1}\\right)\n",
    "  $$\n",
    "\n",
    "* Gradient with respect to $\\mathbf{u}_{1}$ \n",
    "  $$\\frac{\\text{d}L\\left(\\mathbf{u}_{1},\\lambda_{1}\\right)}{\\text{d}\\mathbf{u}_{1}}=2\\mathbf{S}\\mathbf{u}_{1}-2\\lambda_{1}\\mathbf{u}_{1}$$\n",
    "rearrange to form\n",
    "$$\\mathbf{S}\\mathbf{u}_{1}=\\lambda_{1}\\mathbf{u}_{1}.$$\n",
    "  Which is known as an [*eigenvalue problem*](https://en.wikipedia.org/wiki/Eigenvalues_and_eigenvectors).\n",
    "  \n",
    "* Further directions that are *orthogonal* (uncorrelated) to the first can also be shown to be eigenvectors of the covariance.\n",
    "* **Eigenvectors**: the *basis functions*, principal components\n",
    "* **Eigenvalue**: the **variance** captured respectively.\n",
    "* **Question**: What if further directions are not constrained to be orthogonal (do not have to be orthogonal to the first)?\n"
   ]
  },
  {
   "cell_type": "markdown",
   "metadata": {
    "slideshow": {
     "slide_type": "slide"
    }
   },
   "source": [
    "  \n",
    "### PCA for Visualisation\n",
    "\n",
    "* A common way to visualise data is to plot PC1 vs PC2 (vs PC3)\n",
    "* It is a fundamental method for visualisation, see [Google's Embedding projector using TensorFlow](https://projector.tensorflow.org/) with two default visualisation methods 1) PCA; 2) tSNE (have to use PCA as preprocessing for very big data). Go and play with it! You can play with your own data!\n",
    "* Further reading: [Visualising high-dimensional datasets using PCA and t-SNE in Python](https://medium.com/@luckylwk/visualising-high-dimensional-datasets-using-pca-and-t-sne-in-python-8ef87e7915b)"
   ]
  },
  {
   "cell_type": "markdown",
   "metadata": {},
   "source": [
    "## Neural Networks for Unsupervised Learning - AutoEncoder  (<span style=\"color:red\">*optional*</span>)\n",
    "\n",
    "### AutoEncoder\n",
    "* AutoEncoder: a feed-forward neural network taking an input $\\mathbf{x}$ and predict $\\mathbf{x}$, i.e., reconstructing itself \n",
    "* To make this non-trivial, we need to add a bottleneck layer whose dimension is much smaller than the input, which is the latent representation of $\\mathbf{x}$. [Representation Learning](https://en.wikipedia.org/wiki/Feature_learning)\n",
    "<img src=\"https://cdn-images-1.medium.com/max/1600/1*44eDEuZBEsmG_TCAKRI3Kw@2x.png\" alt=\"AE\" style=\"width:500px;\"/>\n",
    "\n",
    "\n",
    "* Encoder: Learn a compact representation, the code, of the input data\n",
    "* Decoder: Reconstruct the input data from the code\n",
    "\n",
    "### PCA as Linear AutoEncoder\n",
    "<img src=\"diagrams/PCA_as_AE.png\" alt=\"PCA as AE.png\" style=\"width:500px;\"/>\n",
    "\n",
    "* PCA can be view as a single-layer encoder, single-layer-decoder, AutoEncoder.\n",
    "* AutoEncoder typically uses nonlinear functions, such as [sigmoid function](https://en.wikipedia.org/wiki/Sigmoid_function)\n",
    "* **Question**: If we stack multiple linear layers as the encoder, do we get a linear or nonlinear encoder?\n",
    "\n",
    "### Deep AutoEncoder\n",
    "<img src=\"diagrams/DeepAE.png\" alt=\"Deep AE.png\" style=\"width:500px;\"/>\n",
    "\n",
    "* Issues: architecture, optimisation (no closed-form solution as PCA), initialisation, computational time (many iterations), etc.\n",
    "\n"
   ]
  }
 ],
 "metadata": {
  "kernelspec": {
   "display_name": "Python 3",
   "language": "python",
   "name": "python3"
  },
  "language_info": {
   "codemirror_mode": {
    "name": "ipython",
    "version": 3
   },
   "file_extension": ".py",
   "mimetype": "text/x-python",
   "name": "python",
   "nbconvert_exporter": "python",
   "pygments_lexer": "ipython3",
   "version": "3.6.6"
  }
 },
 "nbformat": 4,
 "nbformat_minor": 1
}
